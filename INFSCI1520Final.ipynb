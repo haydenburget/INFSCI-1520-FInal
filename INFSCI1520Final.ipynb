{
 "cells": [
  {
   "cell_type": "code",
   "execution_count": 27,
   "id": "24730b69-a019-4cc4-8cc0-ef0e804a2e2a",
   "metadata": {},
   "outputs": [],
   "source": [
    "import pandas as pd\n",
    "import seaborn as sns\n",
    "import matplotlib.pyplot as plt\n",
    "import numpy as np"
   ]
  },
  {
   "cell_type": "code",
   "execution_count": 28,
   "id": "751428a5-a273-4de4-ac85-5bc330bf7663",
   "metadata": {},
   "outputs": [],
   "source": [
    "episodes_df = pd.read_csv('breaking_bad_episodes.csv',\n",
    "                          parse_dates=['original_air_date'])\n",
    "imdb_df = pd.read_csv('breaking_bad_imdb.csv',\n",
    "                      parse_dates=['original_air_date'])"
   ]
  },
  {
   "cell_type": "code",
   "execution_count": 29,
   "id": "c5f240aa-dfbe-4b20-9623-623e2c8c53bb",
   "metadata": {},
   "outputs": [
    {
     "data": {
      "text/html": [
       "<div>\n",
       "<style scoped>\n",
       "    .dataframe tbody tr th:only-of-type {\n",
       "        vertical-align: middle;\n",
       "    }\n",
       "\n",
       "    .dataframe tbody tr th {\n",
       "        vertical-align: top;\n",
       "    }\n",
       "\n",
       "    .dataframe thead th {\n",
       "        text-align: right;\n",
       "    }\n",
       "</style>\n",
       "<table border=\"1\" class=\"dataframe\">\n",
       "  <thead>\n",
       "    <tr style=\"text-align: right;\">\n",
       "      <th></th>\n",
       "      <th>season</th>\n",
       "      <th>episode_num_in_season</th>\n",
       "      <th>episode_num_overall</th>\n",
       "      <th>title</th>\n",
       "      <th>directed_by</th>\n",
       "      <th>written_by</th>\n",
       "      <th>original_air_date</th>\n",
       "      <th>us_viewers</th>\n",
       "    </tr>\n",
       "  </thead>\n",
       "  <tbody>\n",
       "    <tr>\n",
       "      <th>0</th>\n",
       "      <td>1</td>\n",
       "      <td>1</td>\n",
       "      <td>1</td>\n",
       "      <td>Pilot</td>\n",
       "      <td>Vince Gilligan</td>\n",
       "      <td>Vince Gilligan</td>\n",
       "      <td>2008-01-20</td>\n",
       "      <td>1410000.0</td>\n",
       "    </tr>\n",
       "    <tr>\n",
       "      <th>1</th>\n",
       "      <td>1</td>\n",
       "      <td>2</td>\n",
       "      <td>2</td>\n",
       "      <td>Cat's in the Bag...</td>\n",
       "      <td>Adam Bernstein</td>\n",
       "      <td>Vince Gilligan</td>\n",
       "      <td>2008-01-27</td>\n",
       "      <td>1490000.0</td>\n",
       "    </tr>\n",
       "    <tr>\n",
       "      <th>2</th>\n",
       "      <td>1</td>\n",
       "      <td>3</td>\n",
       "      <td>3</td>\n",
       "      <td>...And the Bag's in the River</td>\n",
       "      <td>Adam Bernstein</td>\n",
       "      <td>Vince Gilligan</td>\n",
       "      <td>2008-02-10</td>\n",
       "      <td>1080000.0</td>\n",
       "    </tr>\n",
       "    <tr>\n",
       "      <th>3</th>\n",
       "      <td>1</td>\n",
       "      <td>4</td>\n",
       "      <td>4</td>\n",
       "      <td>Cancer Man</td>\n",
       "      <td>Jim McKay</td>\n",
       "      <td>Vince Gilligan</td>\n",
       "      <td>2008-02-17</td>\n",
       "      <td>1090000.0</td>\n",
       "    </tr>\n",
       "    <tr>\n",
       "      <th>4</th>\n",
       "      <td>1</td>\n",
       "      <td>5</td>\n",
       "      <td>5</td>\n",
       "      <td>Gray Matter</td>\n",
       "      <td>Tricia Brock</td>\n",
       "      <td>Patty Lin</td>\n",
       "      <td>2008-02-24</td>\n",
       "      <td>970000.0</td>\n",
       "    </tr>\n",
       "  </tbody>\n",
       "</table>\n",
       "</div>"
      ],
      "text/plain": [
       "   season  episode_num_in_season  episode_num_overall  \\\n",
       "0       1                      1                    1   \n",
       "1       1                      2                    2   \n",
       "2       1                      3                    3   \n",
       "3       1                      4                    4   \n",
       "4       1                      5                    5   \n",
       "\n",
       "                           title     directed_by      written_by  \\\n",
       "0                          Pilot  Vince Gilligan  Vince Gilligan   \n",
       "1            Cat's in the Bag...  Adam Bernstein  Vince Gilligan   \n",
       "2  ...And the Bag's in the River  Adam Bernstein  Vince Gilligan   \n",
       "3                     Cancer Man       Jim McKay  Vince Gilligan   \n",
       "4                    Gray Matter    Tricia Brock       Patty Lin   \n",
       "\n",
       "  original_air_date  us_viewers  \n",
       "0        2008-01-20   1410000.0  \n",
       "1        2008-01-27   1490000.0  \n",
       "2        2008-02-10   1080000.0  \n",
       "3        2008-02-17   1090000.0  \n",
       "4        2008-02-24    970000.0  "
      ]
     },
     "execution_count": 29,
     "metadata": {},
     "output_type": "execute_result"
    }
   ],
   "source": [
    "episodes_df.head()"
   ]
  },
  {
   "cell_type": "code",
   "execution_count": 30,
   "id": "ce559ac8-04b9-4b11-a35a-bc66a66cc687",
   "metadata": {},
   "outputs": [
    {
     "data": {
      "text/plain": [
       "season                                               1\n",
       "episode_num_in_season                                1\n",
       "episode_num_overall                                  1\n",
       "title                    ...And the Bag's in the River\n",
       "directed_by                             Adam Bernstein\n",
       "written_by                          Gennifer Hutchison\n",
       "original_air_date                  2008-01-20 00:00:00\n",
       "us_viewers                                    970000.0\n",
       "dtype: object"
      ]
     },
     "execution_count": 30,
     "metadata": {},
     "output_type": "execute_result"
    }
   ],
   "source": [
    "episodes_df.min() "
   ]
  },
  {
   "cell_type": "code",
   "execution_count": 31,
   "id": "77213cb5-a363-4c9d-b8d5-05a429c67bf0",
   "metadata": {},
   "outputs": [
    {
     "data": {
      "text/plain": [
       "season                                                               1\n",
       "episode_num                                                          1\n",
       "title                                    ...And the Bag's in the River\n",
       "original_air_date                                  2008-01-20 00:00:00\n",
       "imdb_rating                                                        7.9\n",
       "total_votes                                                      16545\n",
       "desc                 After Skinny Pete gets ripped off, Walt makes ...\n",
       "dtype: object"
      ]
     },
     "execution_count": 31,
     "metadata": {},
     "output_type": "execute_result"
    }
   ],
   "source": [
    "imdb_df.min()"
   ]
  },
  {
   "cell_type": "code",
   "execution_count": 32,
   "id": "bb3f87e3-d48a-4a4c-b626-9bceb8aaf4d6",
   "metadata": {
    "tags": []
   },
   "outputs": [
    {
     "data": {
      "text/html": [
       "<div>\n",
       "<style scoped>\n",
       "    .dataframe tbody tr th:only-of-type {\n",
       "        vertical-align: middle;\n",
       "    }\n",
       "\n",
       "    .dataframe tbody tr th {\n",
       "        vertical-align: top;\n",
       "    }\n",
       "\n",
       "    .dataframe thead th {\n",
       "        text-align: right;\n",
       "    }\n",
       "</style>\n",
       "<table border=\"1\" class=\"dataframe\">\n",
       "  <thead>\n",
       "    <tr style=\"text-align: right;\">\n",
       "      <th></th>\n",
       "      <th>season</th>\n",
       "      <th>episode_num_in_season</th>\n",
       "      <th>episode_num_overall</th>\n",
       "      <th>title</th>\n",
       "      <th>directed_by</th>\n",
       "      <th>written_by</th>\n",
       "      <th>original_air_date</th>\n",
       "      <th>us_viewers</th>\n",
       "      <th>imdb_rating</th>\n",
       "      <th>total_votes</th>\n",
       "      <th>desc</th>\n",
       "    </tr>\n",
       "  </thead>\n",
       "  <tbody>\n",
       "    <tr>\n",
       "      <th>0</th>\n",
       "      <td>1</td>\n",
       "      <td>1</td>\n",
       "      <td>1</td>\n",
       "      <td>Pilot</td>\n",
       "      <td>Vince Gilligan</td>\n",
       "      <td>Vince Gilligan</td>\n",
       "      <td>2008-01-20</td>\n",
       "      <td>1410000.0</td>\n",
       "      <td>9.1</td>\n",
       "      <td>30419</td>\n",
       "      <td>Diagnosed with terminal lung cancer, chemistry...</td>\n",
       "    </tr>\n",
       "    <tr>\n",
       "      <th>1</th>\n",
       "      <td>1</td>\n",
       "      <td>2</td>\n",
       "      <td>2</td>\n",
       "      <td>Cat's in the Bag...</td>\n",
       "      <td>Adam Bernstein</td>\n",
       "      <td>Vince Gilligan</td>\n",
       "      <td>2008-01-27</td>\n",
       "      <td>1490000.0</td>\n",
       "      <td>8.7</td>\n",
       "      <td>22282</td>\n",
       "      <td>After their first drug deal goes terribly wron...</td>\n",
       "    </tr>\n",
       "    <tr>\n",
       "      <th>2</th>\n",
       "      <td>1</td>\n",
       "      <td>3</td>\n",
       "      <td>3</td>\n",
       "      <td>...And the Bag's in the River</td>\n",
       "      <td>Adam Bernstein</td>\n",
       "      <td>Vince Gilligan</td>\n",
       "      <td>2008-02-10</td>\n",
       "      <td>1080000.0</td>\n",
       "      <td>8.8</td>\n",
       "      <td>21633</td>\n",
       "      <td>Walt and Jesse clean up after the bathtub inci...</td>\n",
       "    </tr>\n",
       "    <tr>\n",
       "      <th>3</th>\n",
       "      <td>1</td>\n",
       "      <td>4</td>\n",
       "      <td>4</td>\n",
       "      <td>Cancer Man</td>\n",
       "      <td>Jim McKay</td>\n",
       "      <td>Vince Gilligan</td>\n",
       "      <td>2008-02-17</td>\n",
       "      <td>1090000.0</td>\n",
       "      <td>8.3</td>\n",
       "      <td>20912</td>\n",
       "      <td>Walt tells the rest of his family about his ca...</td>\n",
       "    </tr>\n",
       "    <tr>\n",
       "      <th>4</th>\n",
       "      <td>1</td>\n",
       "      <td>5</td>\n",
       "      <td>5</td>\n",
       "      <td>Gray Matter</td>\n",
       "      <td>Tricia Brock</td>\n",
       "      <td>Patty Lin</td>\n",
       "      <td>2008-02-24</td>\n",
       "      <td>970000.0</td>\n",
       "      <td>8.4</td>\n",
       "      <td>20546</td>\n",
       "      <td>Walt rejects everyone who tries to help him wi...</td>\n",
       "    </tr>\n",
       "  </tbody>\n",
       "</table>\n",
       "</div>"
      ],
      "text/plain": [
       "   season  episode_num_in_season  episode_num_overall  \\\n",
       "0       1                      1                    1   \n",
       "1       1                      2                    2   \n",
       "2       1                      3                    3   \n",
       "3       1                      4                    4   \n",
       "4       1                      5                    5   \n",
       "\n",
       "                           title     directed_by      written_by  \\\n",
       "0                          Pilot  Vince Gilligan  Vince Gilligan   \n",
       "1            Cat's in the Bag...  Adam Bernstein  Vince Gilligan   \n",
       "2  ...And the Bag's in the River  Adam Bernstein  Vince Gilligan   \n",
       "3                     Cancer Man       Jim McKay  Vince Gilligan   \n",
       "4                    Gray Matter    Tricia Brock       Patty Lin   \n",
       "\n",
       "  original_air_date  us_viewers  imdb_rating  total_votes  \\\n",
       "0        2008-01-20   1410000.0          9.1        30419   \n",
       "1        2008-01-27   1490000.0          8.7        22282   \n",
       "2        2008-02-10   1080000.0          8.8        21633   \n",
       "3        2008-02-17   1090000.0          8.3        20912   \n",
       "4        2008-02-24    970000.0          8.4        20546   \n",
       "\n",
       "                                                desc  \n",
       "0  Diagnosed with terminal lung cancer, chemistry...  \n",
       "1  After their first drug deal goes terribly wron...  \n",
       "2  Walt and Jesse clean up after the bathtub inci...  \n",
       "3  Walt tells the rest of his family about his ca...  \n",
       "4  Walt rejects everyone who tries to help him wi...  "
      ]
     },
     "execution_count": 32,
     "metadata": {},
     "output_type": "execute_result"
    }
   ],
   "source": [
    "imdb_df = imdb_df[['title', 'original_air_date', 'imdb_rating', 'total_votes', 'desc']]\n",
    "\n",
    "breaking_bad_df = episodes_df.merge(imdb_df, how='left', on=['title', 'original_air_date'])\n",
    "\n",
    "breaking_bad_df.head()"
   ]
  },
  {
   "cell_type": "markdown",
   "id": "55897ec2-af15-40a8-b4bc-866f04850c7b",
   "metadata": {},
   "source": [
    "Scatter Plot Showing "
   ]
  },
  {
   "cell_type": "code",
   "execution_count": 33,
   "id": "0a58ea6c-6cde-48c4-9898-785d6d2e2094",
   "metadata": {},
   "outputs": [
    {
     "data": {
      "image/png": "[encoded data removed]",
      "text/plain": [
       "<Figure size 907.125x432 with 1 Axes>"
      ]
     },
     "metadata": {
      "needs_background": "light"
     },
     "output_type": "display_data"
    }
   ],
   "source": [
    "sns.lmplot(x=\"episode_num_overall\", y=\"imdb_rating\", hue=\"season\", data=breaking_bad_df, height=6, aspect=2, ci=None)\n",
    "plt.xlabel(\"Episode\")\n",
    "plt.ylabel(\"IMDb Rating\")\n",
    "plt.title(\"IMDb Ratings for Breaking Bad Episodes\");"
   ]
  },
  {
   "cell_type": "code",
   "execution_count": 34,
   "id": "3487fedf-15bd-410e-aae0-c223122daf3f",
   "metadata": {},
   "outputs": [
    {
     "data": {
      "image/png": "[encoded data removed]",
      "text/plain": [
       "<Figure size 907.125x432 with 1 Axes>"
      ]
     },
     "metadata": {
      "needs_background": "light"
     },
     "output_type": "display_data"
    }
   ],
   "source": [
    "sns.lmplot(x=\"episode_num_overall\", y=\"us_viewers\", hue=\"season\", data=breaking_bad_df, height=6, aspect=2, ci=None)\n",
    "plt.xlabel(\"Episode\")\n",
    "plt.ylabel(\"US Viewers\")\n",
    "plt.title(\"US Viewers for Breaking Bad Episodes\")\n",
    "plt.ticklabel_format(style='plain', axis='y');"
   ]
  },
  {
   "cell_type": "code",
   "execution_count": 35,
   "id": "5c545478-4b05-49b5-95c0-a616aa28d628",
   "metadata": {},
   "outputs": [
    {
     "data": {
      "image/png": "[encoded data removed]",
      "text/plain": [
       "<Figure size 1080x432 with 1 Axes>"
      ]
     },
     "metadata": {
      "needs_background": "light"
     },
     "output_type": "display_data"
    }
   ],
   "source": [
    "mean_viewers = breaking_bad_df.groupby(['season'])['us_viewers'].mean()\n",
    "\n",
    "fig = plt.figure(figsize=(15, 6))\n",
    "\n",
    "plt.bar(x=mean_viewers.index, height=(mean_viewers.values / 1e6), color='green')\n",
    "plt.ylabel('Average US viewers (millions)')\n",
    "plt.xlabel('Season')\n",
    "plt.title('Breaking Bad Average US Viewers per Season');"
   ]
  },
  {
   "cell_type": "code",
   "execution_count": 37,
   "id": "e176ab66-b9e8-4787-a1a3-60c5b7058807",
   "metadata": {},
   "outputs": [
    {
     "data": {
      "text/html": [
       "<div>\n",
       "<style scoped>\n",
       "    .dataframe tbody tr th:only-of-type {\n",
       "        vertical-align: middle;\n",
       "    }\n",
       "\n",
       "    .dataframe tbody tr th {\n",
       "        vertical-align: top;\n",
       "    }\n",
       "\n",
       "    .dataframe thead th {\n",
       "        text-align: right;\n",
       "    }\n",
       "</style>\n",
       "<table border=\"1\" class=\"dataframe\">\n",
       "  <thead>\n",
       "    <tr style=\"text-align: right;\">\n",
       "      <th></th>\n",
       "      <th>season</th>\n",
       "      <th>episode_num_in_season</th>\n",
       "      <th>episode_num_overall</th>\n",
       "      <th>title</th>\n",
       "      <th>directed_by</th>\n",
       "      <th>written_by</th>\n",
       "      <th>original_air_date</th>\n",
       "      <th>us_viewers</th>\n",
       "    </tr>\n",
       "  </thead>\n",
       "  <tbody>\n",
       "    <tr>\n",
       "      <th>0</th>\n",
       "      <td>1</td>\n",
       "      <td>1</td>\n",
       "      <td>1</td>\n",
       "      <td>Pilot</td>\n",
       "      <td>Vince Gilligan</td>\n",
       "      <td>Vince Gilligan</td>\n",
       "      <td>2008-01-20</td>\n",
       "      <td>1410000.0</td>\n",
       "    </tr>\n",
       "    <tr>\n",
       "      <th>1</th>\n",
       "      <td>1</td>\n",
       "      <td>2</td>\n",
       "      <td>2</td>\n",
       "      <td>Cat's in the Bag...</td>\n",
       "      <td>Adam Bernstein</td>\n",
       "      <td>Vince Gilligan</td>\n",
       "      <td>2008-01-27</td>\n",
       "      <td>1490000.0</td>\n",
       "    </tr>\n",
       "    <tr>\n",
       "      <th>2</th>\n",
       "      <td>1</td>\n",
       "      <td>3</td>\n",
       "      <td>3</td>\n",
       "      <td>...And the Bag's in the River</td>\n",
       "      <td>Adam Bernstein</td>\n",
       "      <td>Vince Gilligan</td>\n",
       "      <td>2008-02-10</td>\n",
       "      <td>1080000.0</td>\n",
       "    </tr>\n",
       "    <tr>\n",
       "      <th>3</th>\n",
       "      <td>1</td>\n",
       "      <td>4</td>\n",
       "      <td>4</td>\n",
       "      <td>Cancer Man</td>\n",
       "      <td>Jim McKay</td>\n",
       "      <td>Vince Gilligan</td>\n",
       "      <td>2008-02-17</td>\n",
       "      <td>1090000.0</td>\n",
       "    </tr>\n",
       "    <tr>\n",
       "      <th>4</th>\n",
       "      <td>1</td>\n",
       "      <td>5</td>\n",
       "      <td>5</td>\n",
       "      <td>Gray Matter</td>\n",
       "      <td>Tricia Brock</td>\n",
       "      <td>Patty Lin</td>\n",
       "      <td>2008-02-24</td>\n",
       "      <td>970000.0</td>\n",
       "    </tr>\n",
       "  </tbody>\n",
       "</table>\n",
       "</div>"
      ],
      "text/plain": [
       "   season  episode_num_in_season  episode_num_overall  \\\n",
       "0       1                      1                    1   \n",
       "1       1                      2                    2   \n",
       "2       1                      3                    3   \n",
       "3       1                      4                    4   \n",
       "4       1                      5                    5   \n",
       "\n",
       "                           title     directed_by      written_by  \\\n",
       "0                          Pilot  Vince Gilligan  Vince Gilligan   \n",
       "1            Cat's in the Bag...  Adam Bernstein  Vince Gilligan   \n",
       "2  ...And the Bag's in the River  Adam Bernstein  Vince Gilligan   \n",
       "3                     Cancer Man       Jim McKay  Vince Gilligan   \n",
       "4                    Gray Matter    Tricia Brock       Patty Lin   \n",
       "\n",
       "  original_air_date  us_viewers  \n",
       "0        2008-01-20   1410000.0  \n",
       "1        2008-01-27   1490000.0  \n",
       "2        2008-02-10   1080000.0  \n",
       "3        2008-02-17   1090000.0  \n",
       "4        2008-02-24    970000.0  "
      ]
     },
     "execution_count": 37,
     "metadata": {},
     "output_type": "execute_result"
    }
   ],
   "source": [
    "episodes_df.head()"
   ]
  },
  {
   "cell_type": "code",
   "execution_count": 38,
   "id": "3d9d2dae-1876-410a-9ffa-f044fb2937c3",
   "metadata": {},
   "outputs": [
    {
     "data": {
      "text/html": [
       "<div>\n",
       "<style scoped>\n",
       "    .dataframe tbody tr th:only-of-type {\n",
       "        vertical-align: middle;\n",
       "    }\n",
       "\n",
       "    .dataframe tbody tr th {\n",
       "        vertical-align: top;\n",
       "    }\n",
       "\n",
       "    .dataframe thead th {\n",
       "        text-align: right;\n",
       "    }\n",
       "</style>\n",
       "<table border=\"1\" class=\"dataframe\">\n",
       "  <thead>\n",
       "    <tr style=\"text-align: right;\">\n",
       "      <th></th>\n",
       "      <th>title</th>\n",
       "      <th>original_air_date</th>\n",
       "      <th>imdb_rating</th>\n",
       "      <th>total_votes</th>\n",
       "      <th>desc</th>\n",
       "    </tr>\n",
       "  </thead>\n",
       "  <tbody>\n",
       "    <tr>\n",
       "      <th>0</th>\n",
       "      <td>Pilot</td>\n",
       "      <td>2008-01-20</td>\n",
       "      <td>9.1</td>\n",
       "      <td>30419</td>\n",
       "      <td>Diagnosed with terminal lung cancer, chemistry...</td>\n",
       "    </tr>\n",
       "    <tr>\n",
       "      <th>1</th>\n",
       "      <td>Cat's in the Bag...</td>\n",
       "      <td>2008-01-27</td>\n",
       "      <td>8.7</td>\n",
       "      <td>22282</td>\n",
       "      <td>After their first drug deal goes terribly wron...</td>\n",
       "    </tr>\n",
       "    <tr>\n",
       "      <th>2</th>\n",
       "      <td>...And the Bag's in the River</td>\n",
       "      <td>2008-02-10</td>\n",
       "      <td>8.8</td>\n",
       "      <td>21633</td>\n",
       "      <td>Walt and Jesse clean up after the bathtub inci...</td>\n",
       "    </tr>\n",
       "    <tr>\n",
       "      <th>3</th>\n",
       "      <td>Cancer Man</td>\n",
       "      <td>2008-02-17</td>\n",
       "      <td>8.3</td>\n",
       "      <td>20912</td>\n",
       "      <td>Walt tells the rest of his family about his ca...</td>\n",
       "    </tr>\n",
       "    <tr>\n",
       "      <th>4</th>\n",
       "      <td>Gray Matter</td>\n",
       "      <td>2008-02-24</td>\n",
       "      <td>8.4</td>\n",
       "      <td>20546</td>\n",
       "      <td>Walt rejects everyone who tries to help him wi...</td>\n",
       "    </tr>\n",
       "  </tbody>\n",
       "</table>\n",
       "</div>"
      ],
      "text/plain": [
       "                           title original_air_date  imdb_rating  total_votes  \\\n",
       "0                          Pilot        2008-01-20          9.1        30419   \n",
       "1            Cat's in the Bag...        2008-01-27          8.7        22282   \n",
       "2  ...And the Bag's in the River        2008-02-10          8.8        21633   \n",
       "3                     Cancer Man        2008-02-17          8.3        20912   \n",
       "4                    Gray Matter        2008-02-24          8.4        20546   \n",
       "\n",
       "                                                desc  \n",
       "0  Diagnosed with terminal lung cancer, chemistry...  \n",
       "1  After their first drug deal goes terribly wron...  \n",
       "2  Walt and Jesse clean up after the bathtub inci...  \n",
       "3  Walt tells the rest of his family about his ca...  \n",
       "4  Walt rejects everyone who tries to help him wi...  "
      ]
     },
     "execution_count": 38,
     "metadata": {},
     "output_type": "execute_result"
    }
   ],
   "source": [
    "imdb_df.head()"
   ]
  },
  {
   "cell_type": "code",
   "execution_count": 39,
   "id": "9d7b4403-fd76-4295-a656-be374faa7ab7",
   "metadata": {},
   "outputs": [
    {
     "name": "stdout",
     "output_type": "stream",
     "text": [
      "7.9\n"
     ]
    }
   ],
   "source": [
    "lowest_rating_row = imdb_df['imdb_rating'].min()\n",
    "print(lowest_rating)"
   ]
  },
  {
   "cell_type": "code",
   "execution_count": 40,
   "id": "af51dc11-8cbb-4d5b-9b76-3f05b5971ac1",
   "metadata": {},
   "outputs": [
    {
     "name": "stdout",
     "output_type": "stream",
     "text": [
      "29\n"
     ]
    }
   ],
   "source": [
    "lowest_rating_row = imdb_df['imdb_rating'].idxmin()\n",
    "print(lowest_rating_row)"
   ]
  },
  {
   "cell_type": "code",
   "execution_count": 41,
   "id": "8d2d4eaa-517b-4265-8b15-54a423f9c76a",
   "metadata": {},
   "outputs": [
    {
     "name": "stdout",
     "output_type": "stream",
     "text": [
      "title                                                              Fly\n",
      "original_air_date                                  2010-05-23 00:00:00\n",
      "imdb_rating                                                        7.9\n",
      "total_votes                                                      29233\n",
      "desc                 There is a fly loose in the lab. Walt and Jess...\n",
      "Name: 29, dtype: object\n"
     ]
    }
   ],
   "source": [
    "print(imdb_df.iloc[29])"
   ]
  },
  {
   "cell_type": "code",
   "execution_count": 42,
   "id": "2caf5a63-0dcf-4174-b8b5-b83c6891022e",
   "metadata": {},
   "outputs": [
    {
     "name": "stdout",
     "output_type": "stream",
     "text": [
      "59\n"
     ]
    }
   ],
   "source": [
    "highest_rating_row = imdb_df['imdb_rating'].idxmax()\n",
    "print(highest_rating_row)"
   ]
  },
  {
   "cell_type": "code",
   "execution_count": 43,
   "id": "c1ad5ea5-800c-4bd6-b63b-1d01910d3daa",
   "metadata": {},
   "outputs": [
    {
     "name": "stdout",
     "output_type": "stream",
     "text": [
      "title                                                       Ozymandias\n",
      "original_air_date                                  2013-09-15 00:00:00\n",
      "imdb_rating                                                       10.0\n",
      "total_votes                                                     150341\n",
      "desc                 Walt goes on the run. Jesse is taken hostage. ...\n",
      "Name: 59, dtype: object\n"
     ]
    }
   ],
   "source": [
    "print(imdb_df.iloc[59])"
   ]
  },
  {
   "cell_type": "code",
   "execution_count": 44,
   "id": "9ecc1c6c-683e-40cf-9914-7a1bf22f4cde",
   "metadata": {},
   "outputs": [
    {
     "data": {
      "text/html": [
       "<div>\n",
       "<style scoped>\n",
       "    .dataframe tbody tr th:only-of-type {\n",
       "        vertical-align: middle;\n",
       "    }\n",
       "\n",
       "    .dataframe tbody tr th {\n",
       "        vertical-align: top;\n",
       "    }\n",
       "\n",
       "    .dataframe thead th {\n",
       "        text-align: right;\n",
       "    }\n",
       "</style>\n",
       "<table border=\"1\" class=\"dataframe\">\n",
       "  <thead>\n",
       "    <tr style=\"text-align: right;\">\n",
       "      <th></th>\n",
       "      <th>season</th>\n",
       "      <th>episode_num_in_season</th>\n",
       "      <th>episode_num_overall</th>\n",
       "      <th>title</th>\n",
       "      <th>directed_by</th>\n",
       "      <th>written_by</th>\n",
       "      <th>original_air_date</th>\n",
       "      <th>us_viewers</th>\n",
       "    </tr>\n",
       "  </thead>\n",
       "  <tbody>\n",
       "    <tr>\n",
       "      <th>0</th>\n",
       "      <td>1</td>\n",
       "      <td>1</td>\n",
       "      <td>1</td>\n",
       "      <td>Pilot</td>\n",
       "      <td>Vince Gilligan</td>\n",
       "      <td>Vince Gilligan</td>\n",
       "      <td>2008-01-20</td>\n",
       "      <td>1410000.0</td>\n",
       "    </tr>\n",
       "    <tr>\n",
       "      <th>1</th>\n",
       "      <td>1</td>\n",
       "      <td>2</td>\n",
       "      <td>2</td>\n",
       "      <td>Cat's in the Bag...</td>\n",
       "      <td>Adam Bernstein</td>\n",
       "      <td>Vince Gilligan</td>\n",
       "      <td>2008-01-27</td>\n",
       "      <td>1490000.0</td>\n",
       "    </tr>\n",
       "    <tr>\n",
       "      <th>2</th>\n",
       "      <td>1</td>\n",
       "      <td>3</td>\n",
       "      <td>3</td>\n",
       "      <td>...And the Bag's in the River</td>\n",
       "      <td>Adam Bernstein</td>\n",
       "      <td>Vince Gilligan</td>\n",
       "      <td>2008-02-10</td>\n",
       "      <td>1080000.0</td>\n",
       "    </tr>\n",
       "    <tr>\n",
       "      <th>3</th>\n",
       "      <td>1</td>\n",
       "      <td>4</td>\n",
       "      <td>4</td>\n",
       "      <td>Cancer Man</td>\n",
       "      <td>Jim McKay</td>\n",
       "      <td>Vince Gilligan</td>\n",
       "      <td>2008-02-17</td>\n",
       "      <td>1090000.0</td>\n",
       "    </tr>\n",
       "    <tr>\n",
       "      <th>4</th>\n",
       "      <td>1</td>\n",
       "      <td>5</td>\n",
       "      <td>5</td>\n",
       "      <td>Gray Matter</td>\n",
       "      <td>Tricia Brock</td>\n",
       "      <td>Patty Lin</td>\n",
       "      <td>2008-02-24</td>\n",
       "      <td>970000.0</td>\n",
       "    </tr>\n",
       "  </tbody>\n",
       "</table>\n",
       "</div>"
      ],
      "text/plain": [
       "   season  episode_num_in_season  episode_num_overall  \\\n",
       "0       1                      1                    1   \n",
       "1       1                      2                    2   \n",
       "2       1                      3                    3   \n",
       "3       1                      4                    4   \n",
       "4       1                      5                    5   \n",
       "\n",
       "                           title     directed_by      written_by  \\\n",
       "0                          Pilot  Vince Gilligan  Vince Gilligan   \n",
       "1            Cat's in the Bag...  Adam Bernstein  Vince Gilligan   \n",
       "2  ...And the Bag's in the River  Adam Bernstein  Vince Gilligan   \n",
       "3                     Cancer Man       Jim McKay  Vince Gilligan   \n",
       "4                    Gray Matter    Tricia Brock       Patty Lin   \n",
       "\n",
       "  original_air_date  us_viewers  \n",
       "0        2008-01-20   1410000.0  \n",
       "1        2008-01-27   1490000.0  \n",
       "2        2008-02-10   1080000.0  \n",
       "3        2008-02-17   1090000.0  \n",
       "4        2008-02-24    970000.0  "
      ]
     },
     "execution_count": 44,
     "metadata": {},
     "output_type": "execute_result"
    }
   ],
   "source": [
    "episodes_df.head()"
   ]
  },
  {
   "cell_type": "code",
   "execution_count": 52,
   "id": "7a4c8d4f-1a48-4b01-9c7a-be21a9e269e3",
   "metadata": {},
   "outputs": [
    {
     "data": {
      "image/png": "[encoded data removed]",
      "text/plain": [
       "<Figure size 432x288 with 1 Axes>"
      ]
     },
     "metadata": {
      "needs_background": "light"
     },
     "output_type": "display_data"
    }
   ],
   "source": [
    "import seaborn as sns\n",
    "import matplotlib.pyplot as plt\n",
    "\n",
    "# Create the box plot with wider boxes\n",
    "sns.boxplot(x=\"season\", y=\"imdb_rating\", data=breaking_bad_df, width=0.5)\n",
    "\n",
    "# Set the labels and title\n",
    "plt.xlabel(\"Season\")\n",
    "plt.ylabel(\"IMDb Rating\")\n",
    "plt.title(\"IMDb Ratings for Breaking Bad Episodes by Season\")\n",
    "\n",
    "# Show the plot\n",
    "plt.show()"
   ]
  },
  {
   "cell_type": "code",
   "execution_count": null,
   "id": "a590aa3c-405c-4dbe-8ac1-64cab5addff0",
   "metadata": {},
   "outputs": [],
   "source": []
  }
 ],
 "metadata": {
  "kernelspec": {
   "display_name": "Python 3 (ipykernel)",
   "language": "python",
   "name": "python3"
  },
  "language_info": {
   "codemirror_mode": {
    "name": "ipython",
    "version": 3
   },
   "file_extension": ".py",
   "mimetype": "text/x-python",
   "name": "python",
   "nbconvert_exporter": "python",
   "pygments_lexer": "ipython3",
   "version": "3.9.7"
  }
 },
 "nbformat": 4,
 "nbformat_minor": 5
}
